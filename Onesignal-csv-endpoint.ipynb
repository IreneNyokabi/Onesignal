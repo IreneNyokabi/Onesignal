{
 "cells": [
  {
   "cell_type": "code",
   "execution_count": null,
   "metadata": {},
   "outputs": [],
   "source": [
    "import requests\n",
    "import json\n",
    "import pandas as pd\n",
    "from datetime import datetime, date, timedelta\n",
    "import awswrangler as wr\n",
    "header = {\"Content-Type\": \"application/json; charset=utf-8\",\n",
    "\n",
    "          \"Authorization\": \"Basic {enter-api-key-here}\"}\n",
    "\n",
    "\n",
    "req = requests.post(\"https://onesignal.com/api/v1/players/csv_export?app_id={enter-app-id-here}&offset=0\", headers=header)\n",
    "\n",
    "\n",
    "\n",
    "response = json.loads(req.text)\n",
    "print(response)\n"
   ]
  },
  {
   "cell_type": "code",
   "execution_count": null,
   "metadata": {},
   "outputs": [],
   "source": [
    "#Create DataFrame\n",
    "df = pd.DataFrame(response, index=[0]) \n",
    "print(df)"
   ]
  },
  {
   "cell_type": "code",
   "execution_count": null,
   "metadata": {},
   "outputs": [],
   "source": [
    "##since response is a AWS s3 link, this section is pulling only the last row of the column csv_file_url which contains the URL\n",
    "df=df['csv_file_url'].iloc[-1]"
   ]
  },
  {
   "cell_type": "code",
   "execution_count": null,
   "metadata": {},
   "outputs": [],
   "source": [
    "## to get data from the AWS S3 link, we have to unzip it\n",
    "data = pd.read_csv(df,compression='gzip')\n",
    "\n",
    "##Save unzipped format to a dataframe df\n",
    "df = pd.DataFrame(data) \n",
    "\n",
    "\n",
    "#Pull only specific metrics\n",
    "df=df.loc[:,['created_at','invalid_identifier']]\n",
    "print(df)\n",
    "\n",
    "#Create brandname to differentiate data from one appid to another. Here, I am creating a column called \"name\" and assigning it whatever name I'll decide on \n",
    "df['name'] = '{insert-name-you`d-want}'\n",
    "  \n",
    "\n",
    "#remove timestamp from date\n",
    "df['created_at'] = pd.to_datetime(df['created_at']).dt.date\n",
    "df"
   ]
  },
  {
   "cell_type": "code",
   "execution_count": null,
   "metadata": {},
   "outputs": [],
   "source": [
    "##manipulate the dataframe above as you'd want"
   ]
  }
 ],
 "metadata": {
  "kernelspec": {
   "display_name": "Python 3",
   "language": "python",
   "name": "python3"
  },
  "language_info": {
   "codemirror_mode": {
    "name": "ipython",
    "version": 3
   },
   "file_extension": ".py",
   "mimetype": "text/x-python",
   "name": "python",
   "nbconvert_exporter": "python",
   "pygments_lexer": "ipython3",
   "version": "3.8.8"
  }
 },
 "nbformat": 4,
 "nbformat_minor": 4
}
