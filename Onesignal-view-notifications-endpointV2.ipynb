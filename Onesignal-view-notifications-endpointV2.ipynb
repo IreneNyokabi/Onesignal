{
 "cells": [
  {
   "cell_type": "code",
   "execution_count": null,
   "id": "3a4957ca",
   "metadata": {},
   "outputs": [],
   "source": [
    "import requests\n",
    "import json\n",
    "import pandas as pd\n",
    "import csv\n",
    "from pandas import json_normalize\n",
    "from datetime import datetime, date, timedelta\n",
    "from pandas.tseries.offsets import DateOffset"
   ]
  },
  {
   "cell_type": "code",
   "execution_count": null,
   "id": "6fcd5ec4",
   "metadata": {},
   "outputs": [],
   "source": [
    "import requests\n",
    "import json\n",
    "\n",
    "header = {\"Content-Type\": \"application/json; charset=utf-8\",\n",
    "          \"Authorization\": \"Basic {enter-api-key-here}\"}\n",
    "\n",
    "req = requests.get(\"https://onesignal.com/api/v1/notifications?app_id={enter-app-id-here}&defects?limit=50\", headers=header)\n",
    " \n",
    "response = json.loads(req.text)\n",
    "response"
   ]
  },
  {
   "cell_type": "code",
   "execution_count": null,
   "id": "ffb56ffd",
   "metadata": {},
   "outputs": [],
   "source": [
    "##Unnest response above using json normalize\n",
    "df=pd.json_normalize(response)\n",
    "df"
   ]
  },
  {
   "cell_type": "code",
   "execution_count": null,
   "id": "4a875eaf",
   "metadata": {},
   "outputs": [],
   "source": [
    "#Unest all response under record path 'notifications'\n",
    "df=pd.json_normalize(response, record_path =['notifications'])\n",
    "df"
   ]
  },
  {
   "cell_type": "code",
   "execution_count": null,
   "id": "81dda6b7",
   "metadata": {},
   "outputs": [],
   "source": [
    "# Pull only specific columns I. If you are looking for more columns, feel free to add them in the []. \n",
    "df = pd.json_normalize(response, 'notifications', ['completed_at', 'converted', 'received','successful'], \n",
    "                    record_prefix='notifications_', errors='ignore')\n",
    "df"
   ]
  },
  {
   "cell_type": "code",
   "execution_count": null,
   "id": "5d89e03c",
   "metadata": {},
   "outputs": [],
   "source": [
    "#replace empty values with o\n",
    "df=df.fillna(0)\n",
    "\n",
    "# Convert from unix to datetime\n",
    "df['notifications_completed_at'] = pd.to_datetime(df['notifications_completed_at'],unit='s')\n",
    "\n",
    "#remove timestamp from date\n",
    "df['notifications_completed_at'] = pd.to_datetime(df['notifications_completed_at']).dt.date\n",
    "\n",
    "#Pull only specific metrics\n",
    "df=df.loc[:,['notifications_completed_at','notifications_received','notifications_converted','notifications_successful']]\n",
    "df"
   ]
  }
 ],
 "metadata": {
  "kernelspec": {
   "display_name": "Python 3",
   "language": "python",
   "name": "python3"
  },
  "language_info": {
   "codemirror_mode": {
    "name": "ipython",
    "version": 3
   },
   "file_extension": ".py",
   "mimetype": "text/x-python",
   "name": "python",
   "nbconvert_exporter": "python",
   "pygments_lexer": "ipython3",
   "version": "3.8.8"
  }
 },
 "nbformat": 4,
 "nbformat_minor": 5
}
